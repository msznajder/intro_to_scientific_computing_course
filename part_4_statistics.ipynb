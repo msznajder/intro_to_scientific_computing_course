{
 "cells": [
  {
   "cell_type": "markdown",
   "metadata": {},
   "source": [
    "# Part 4 - Statistics\n"
   ]
  },
  {
   "cell_type": "markdown",
   "metadata": {},
   "source": [
    "## Sampling and testing\n",
    "\n",
    "### Random sampling\n",
    "\n",
    "#### Simple random data\n",
    "\n",
    "Numpy offers several routines to generate easily uniform and random samples."
   ]
  },
  {
   "cell_type": "code",
   "execution_count": 5,
   "metadata": {
    "collapsed": true
   },
   "outputs": [],
   "source": [
    "import numpy as np\n",
    "import numpy.random as rdm\n",
    "np.set_printoptions(precision=2)"
   ]
  },
  {
   "cell_type": "code",
   "execution_count": 6,
   "metadata": {
    "collapsed": false
   },
   "outputs": [
    {
     "data": {
      "text/plain": [
       "array([[ 0.98,  0.98,  0.38,  0.58],\n",
       "       [ 0.36,  0.66,  0.66,  0.79],\n",
       "       [ 0.23,  0.67,  0.49,  0.66],\n",
       "       [ 0.15,  0.5 ,  0.98,  0.87]])"
      ]
     },
     "execution_count": 6,
     "metadata": {},
     "output_type": "execute_result"
    }
   ],
   "source": [
    "rdm.rand(4, 4) # Uniform sampling"
   ]
  },
  {
   "cell_type": "code",
   "execution_count": 7,
   "metadata": {
    "collapsed": false
   },
   "outputs": [
    {
     "data": {
      "text/plain": [
       "array([[ 0.29,  0.03, -0.98,  0.64],\n",
       "       [-0.42, -1.73,  1.32, -0.09],\n",
       "       [-0.95, -0.06, -0.13, -2.32],\n",
       "       [ 0.84,  0.51,  0.67,  0.85]])"
      ]
     },
     "execution_count": 7,
     "metadata": {},
     "output_type": "execute_result"
    }
   ],
   "source": [
    "rdm.randn(4, 4) # Standard normal sampling"
   ]
  },
  {
   "cell_type": "code",
   "execution_count": 10,
   "metadata": {
    "collapsed": false
   },
   "outputs": [
    {
     "data": {
      "text/plain": [
       "array([[2, 5, 1, 0],\n",
       "       [8, 6, 0, 4],\n",
       "       [9, 6, 7, 8],\n",
       "       [7, 7, 5, 3]])"
      ]
     },
     "execution_count": 10,
     "metadata": {},
     "output_type": "execute_result"
    }
   ],
   "source": [
    "rdm.randint(0, 10, size=(4, 4)) # Descrete uniform sampling (10 exclusive)"
   ]
  },
  {
   "cell_type": "markdown",
   "metadata": {},
   "source": [
    "In the case where the sampled integers are supposed to index an array, one can replace"
   ]
  },
  {
   "cell_type": "code",
   "execution_count": 11,
   "metadata": {
    "collapsed": false
   },
   "outputs": [
    {
     "data": {
      "text/plain": [
       "array([30, 10, 20, 10, 30, 40,  0])"
      ]
     },
     "execution_count": 11,
     "metadata": {},
     "output_type": "execute_result"
    }
   ],
   "source": [
    "a = np.arange(10) * 10\n",
    "\n",
    "ind = rdm.randint(0, 5, size=7)\n",
    "a[ind]"
   ]
  },
  {
   "cell_type": "markdown",
   "metadata": {},
   "source": [
    "by"
   ]
  },
  {
   "cell_type": "code",
   "execution_count": 12,
   "metadata": {
    "collapsed": false
   },
   "outputs": [
    {
     "data": {
      "text/plain": [
       "array([20, 90, 40, 60, 10, 90, 80])"
      ]
     },
     "execution_count": 12,
     "metadata": {},
     "output_type": "execute_result"
    }
   ],
   "source": [
    "rdm.choice(a, size=7)"
   ]
  },
  {
   "cell_type": "markdown",
   "metadata": {},
   "source": [
    "The previous routines sample integers with replacement. To sample without replacement, one can use."
   ]
  },
  {
   "cell_type": "code",
   "execution_count": 13,
   "metadata": {
    "collapsed": false
   },
   "outputs": [
    {
     "data": {
      "text/plain": [
       "array([1, 3, 9, 8, 6, 4, 2])"
      ]
     },
     "execution_count": 13,
     "metadata": {},
     "output_type": "execute_result"
    }
   ],
   "source": [
    "rdm.permutation(10)[:7] # 7 first item of a random permutation of [0, …, 9]"
   ]
  },
  {
   "cell_type": "markdown",
   "metadata": {},
   "source": [
    "Note that one can also directly permute an array with a copy (permutation) or in-place (shuffle), instead of generating random indexes."
   ]
  },
  {
   "cell_type": "markdown",
   "metadata": {},
   "source": [
    "### Random generator\n",
    "\n",
    "It is obvious that random generators used in scientific computing are in fact pseudo-random generators. As a consequence, the practitioner is able to control them to a certain extent. In a way, this is good news for reproducible science!\n",
    "\n",
    "Both examples below illustrate how to replay a random sampling."
   ]
  },
  {
   "cell_type": "code",
   "execution_count": 15,
   "metadata": {
    "collapsed": false
   },
   "outputs": [
    {
     "name": "stdout",
     "output_type": "stream",
     "text": [
      "[44 47 64]\n",
      "[37 12 72]\n",
      "[40 15 72]\n"
     ]
    }
   ],
   "source": [
    "for it in range(3):\n",
    "    rdm.seed(it) # Seed the generator to the current iteration number\n",
    "    print(rdm.randint(100, size=3))"
   ]
  },
  {
   "cell_type": "code",
   "execution_count": 17,
   "metadata": {
    "collapsed": false
   },
   "outputs": [
    {
     "name": "stdout",
     "output_type": "stream",
     "text": [
      "[44 47 64]\n",
      "[37 12 72]\n",
      "[40 15 72]\n"
     ]
    }
   ],
   "source": [
    "for it in range(3):\n",
    "    rdm.seed(it) # Seed the generator to the current iteration number\n",
    "    print(rdm.randint(100, size=3)) # Same as before!"
   ]
  },
  {
   "cell_type": "code",
   "execution_count": 18,
   "metadata": {
    "collapsed": false
   },
   "outputs": [
    {
     "name": "stdout",
     "output_type": "stream",
     "text": [
      "[-2.14  1.64 -1.79]\n",
      "[[ 0.2   0.62  0.3 ]\n",
      " [ 0.27  0.62  0.53]\n",
      " [ 0.13  0.51  0.18]]\n"
     ]
    }
   ],
   "source": [
    "s = rdm.get_state() # Get the internal state of the generator\n",
    "print(np.array([rdm.randn() for it in range(3)]))\n",
    "print(rdm.rand(3, 3))"
   ]
  },
  {
   "cell_type": "code",
   "execution_count": 19,
   "metadata": {
    "collapsed": false
   },
   "outputs": [
    {
     "name": "stdout",
     "output_type": "stream",
     "text": [
      "[-2.14]\n",
      "[ 1.64]\n",
      "[-1.79]\n"
     ]
    }
   ],
   "source": [
    "rdm.set_state(s) # Set the internal state of the generator to its previous value\n",
    "for it in range(3):\n",
    "    print(rdm.randn(1)) # Same as before"
   ]
  },
  {
   "cell_type": "markdown",
   "metadata": {},
   "source": [
    "### Distributions\n",
    "\n",
    "Besides the previous routines, Numpy offers the possibility to draw samples from numerous distributions."
   ]
  },
  {
   "cell_type": "code",
   "execution_count": 20,
   "metadata": {
    "collapsed": false
   },
   "outputs": [
    {
     "name": "stdout",
     "output_type": "stream",
     "text": [
      "[3 4 5 2 2 2 4 6 6 3 2 1 6 2 5 3 3 5 3 6 7 6 5 3 2 3 2 4 4 3]\n"
     ]
    }
   ],
   "source": [
    "x = rdm.poisson(lam=4, size=500)\n",
    "print(x[:30])"
   ]
  },
  {
   "cell_type": "code",
   "execution_count": 22,
   "metadata": {
    "collapsed": false
   },
   "outputs": [
    {
     "data": {
      "image/png": "[encoded data removed]",
      "text/plain": [
       "<matplotlib.figure.Figure at 0x10a5c3780>"
      ]
     },
     "metadata": {},
     "output_type": "display_data"
    }
   ],
   "source": [
    "import matplotlib.pyplot as plt\n",
    "%matplotlib inline\n",
    "\n",
    "plt.stem(np.bincount(x));"
   ]
  },
  {
   "cell_type": "markdown",
   "metadata": {},
   "source": [
    "## Advanced distributions\n",
    "\n",
    "### Special functions\n",
    "\n",
    "Many raw statistical routines (cumulative, survival and inverse function) are available in the scipy.special module."
   ]
  },
  {
   "cell_type": "code",
   "execution_count": 23,
   "metadata": {
    "collapsed": false
   },
   "outputs": [
    {
     "data": {
      "text/plain": [
       "<Container object of 3 artists>"
      ]
     },
     "execution_count": 23,
     "metadata": {},
     "output_type": "execute_result"
    },
    {
     "data": {
      "image/png": "[encoded data removed]",
      "text/plain": [
       "<matplotlib.figure.Figure at 0x10a5c3f28>"
      ]
     },
     "metadata": {},
     "output_type": "display_data"
    }
   ],
   "source": [
    "from scipy import special\n",
    "\n",
    "plt.stem(special.pdtr(range(15), 4)) # Poisson cumulative distribution function"
   ]
  },
  {
   "cell_type": "markdown",
   "metadata": {},
   "source": [
    "### Random variables\n",
    "\n",
    "Scipy.stats implements random variables with two different classes: continuous random variables and discrete random variables. As an example, we focus here on the gamma distribution and illustrate the main methods available."
   ]
  },
  {
   "cell_type": "code",
   "execution_count": 24,
   "metadata": {
    "collapsed": false
   },
   "outputs": [
    {
     "name": "stdout",
     "output_type": "stream",
     "text": [
      "Distribution support: [0.0, inf]\n",
      "Number of shape parameters: 1 (name: a)\n"
     ]
    }
   ],
   "source": [
    "from scipy.stats import gamma\n",
    "\n",
    "# gamma is a r.v. object corresponding to the standard gamma distribution\n",
    "print(\"Distribution support: [{}, {}]\".format(gamma.a, gamma.b))\n",
    "print(\"Number of shape parameters: {} (name: {})\".format(gamma.numargs, gamma.shapes))"
   ]
  },
  {
   "cell_type": "markdown",
   "metadata": {},
   "source": [
    "The shape parameter `a` appears in the probability density function:\n",
    "\n",
    "Since the shape parameter aa is required, one has to specify it for each method."
   ]
  },
  {
   "cell_type": "code",
   "execution_count": 25,
   "metadata": {
    "collapsed": false
   },
   "outputs": [
    {
     "name": "stdout",
     "output_type": "stream",
     "text": [
      "Mean: 4.0\n",
      "Median: 3.67206074885\n",
      "Variance: 4.0\n"
     ]
    }
   ],
   "source": [
    "print(\"Mean:\", gamma.mean(a=4))\n",
    "print(\"Median:\", gamma.median(a=4))\n",
    "print(\"Variance:\", gamma.var(a=4))"
   ]
  },
  {
   "cell_type": "markdown",
   "metadata": {},
   "source": [
    "wo other parameters can be passed to the methods: loc and scale. They correspond to shifting and rescaling the input of the pdf with x↦(x/locscale)."
   ]
  },
  {
   "cell_type": "code",
   "execution_count": 26,
   "metadata": {
    "collapsed": false
   },
   "outputs": [
    {
     "name": "stdout",
     "output_type": "stream",
     "text": [
      "Mean: 2.4\n"
     ]
    }
   ],
   "source": [
    "print(\"Mean:\", gamma.mean(a=4, loc=2, scale=0.1))"
   ]
  },
  {
   "cell_type": "markdown",
   "metadata": {},
   "source": [
    "Since, passing those parameters time and again can become quite bothersome, one can freeze a random variable."
   ]
  },
  {
   "cell_type": "code",
   "execution_count": 27,
   "metadata": {
    "collapsed": false
   },
   "outputs": [
    {
     "name": "stdout",
     "output_type": "stream",
     "text": [
      "Mean: 10.0\n"
     ]
    }
   ],
   "source": [
    "rv = gamma(a=4, loc=2, scale=2)\n",
    "print(\"Mean:\", rv.mean())"
   ]
  },
  {
   "cell_type": "markdown",
   "metadata": {},
   "source": [
    "Now, let us have a look to the available methods."
   ]
  },
  {
   "cell_type": "code",
   "execution_count": 28,
   "metadata": {
    "collapsed": false
   },
   "outputs": [
    {
     "name": "stdout",
     "output_type": "stream",
     "text": [
      "[  6.56  12.79   7.     5.77   9.22  12.33  11.39  13.    12.25  15.21]\n"
     ]
    }
   ],
   "source": [
    "print(rv.rvs(size=10))  # Drawn a random sample"
   ]
  },
  {
   "cell_type": "code",
   "execution_count": 29,
   "metadata": {
    "collapsed": false
   },
   "outputs": [
    {
     "name": "stdout",
     "output_type": "stream",
     "text": [
      "Moment 0: 1.0\n",
      "Moment 1: 10.0\n",
      "Moment 2: 116.0\n",
      "Moment 3: 1544.0\n"
     ]
    }
   ],
   "source": [
    "for n in range(4):\n",
    "    print(\"Moment {}:\".format(n), rv.moment(n))"
   ]
  },
  {
   "cell_type": "code",
   "execution_count": 30,
   "metadata": {
    "collapsed": false
   },
   "outputs": [
    {
     "data": {
      "image/png": "[encoded data removed]",
      "text/plain": [
       "<matplotlib.figure.Figure at 0x10f48f358>"
      ]
     },
     "metadata": {},
     "output_type": "display_data"
    }
   ],
   "source": [
    "x = np.linspace(0, 30, num=50)\n",
    "\n",
    "plt.plot(x, rv.pdf(x), label='pdf')  # Probability density function\n",
    "plt.plot(x, rv.cdf(x)/10, label='cdf / 10')  # Cumulative density function\n",
    "plt.legend(loc=\"lower right\");"
   ]
  },
  {
   "cell_type": "code",
   "execution_count": 31,
   "metadata": {
    "collapsed": false
   },
   "outputs": [
    {
     "data": {
      "image/png": "[encoded data removed]",
      "text/plain": [
       "<matplotlib.figure.Figure at 0x10f47fda0>"
      ]
     },
     "metadata": {},
     "output_type": "display_data"
    }
   ],
   "source": [
    "plt.plot(x, rv.logpdf(x), label='log pdf');  # Log of the pdf"
   ]
  },
  {
   "cell_type": "code",
   "execution_count": 32,
   "metadata": {
    "collapsed": false
   },
   "outputs": [
    {
     "data": {
      "image/png": "[encoded data removed]",
      "text/plain": [
       "<matplotlib.figure.Figure at 0x10f5f4780>"
      ]
     },
     "metadata": {},
     "output_type": "display_data"
    }
   ],
   "source": [
    "x = np.linspace(0, 1, num=50)\n",
    "plt.plot(x, rv.ppf(x), label='cdf')  # Percent point function (inverse of cdf) \n",
    "plt.legend(loc=\"upper left\");"
   ]
  },
  {
   "cell_type": "code",
   "execution_count": 33,
   "metadata": {
    "collapsed": false
   },
   "outputs": [
    {
     "name": "stdout",
     "output_type": "stream",
     "text": [
      "First exponential moment: 1.67e-03\n"
     ]
    }
   ],
   "source": [
    "m = rv.expect(lambda x: np.exp(-x))  # Expectation of a function\n",
    "print(\"First exponential moment: {0:0.2e}\".format(m))"
   ]
  },
  {
   "cell_type": "markdown",
   "metadata": {},
   "source": [
    "Note that an unfrozen random variable (for instance gamma, not rv) benefits from two other methods: fit and fit_loc_scale for estimating parameters respectively by likelihood maximization and the moment method."
   ]
  },
  {
   "cell_type": "markdown",
   "metadata": {},
   "source": [
    "### Descriptive statistics\n",
    "\n",
    "#### Order statistics, moments and correlation\n",
    "\n",
    "Basic descriptive statistics such as min, max, mean, median, std, variance and percentiles can be computed with array methods or routines from Numpy. Other empirical statistics such as mode and moments can be obtained with Scipy statistical functions.\n",
    "\n",
    "#### Histograms\n",
    "\n",
    "A common task in statisics is to estimate the pdf of a random variable, what is called density estimation. In a first approach, this task can be achieved by computing a histogram."
   ]
  },
  {
   "cell_type": "code",
   "execution_count": 38,
   "metadata": {
    "collapsed": false
   },
   "outputs": [
    {
     "data": {
      "image/png": "[encoded data removed]",
      "text/plain": [
       "<matplotlib.figure.Figure at 0x10f729668>"
      ]
     },
     "metadata": {},
     "output_type": "display_data"
    }
   ],
   "source": [
    "x = rv.rvs(size=1000) # Draw a random sample\n",
    "\n",
    "# Plot the histogram\n",
    "hist, bins = np.histogram(x, bins=20, normed=True)\n",
    "plt.bar(bins[:-1], hist, width=bins[1]-bins[0])\n",
    "plt.xticks(bins[::3], [\"{0:0.2f}\".format(t) for t in bins[::3]]);\n",
    "\n",
    "x_pdf = np.linspace(0, 30, num=50)\n",
    "plt.plot(x_pdf, rv.pdf(x_pdf), color=\"red\", linewidth=2, label=\"pdf\")\n",
    "plt.legend();"
   ]
  },
  {
   "cell_type": "markdown",
   "metadata": {},
   "source": [
    "Alternatively,one can use Matplotlib to produce fancy plots."
   ]
  },
  {
   "cell_type": "code",
   "execution_count": 39,
   "metadata": {
    "collapsed": false
   },
   "outputs": [
    {
     "data": {
      "image/png": "[encoded data removed]",
      "text/plain": [
       "<matplotlib.figure.Figure at 0x10f8ab3c8>"
      ]
     },
     "metadata": {},
     "output_type": "display_data"
    }
   ],
   "source": [
    "(hist_plt, bins_plt, patches) = plt.hist(x, bins=20, normed=True, edgecolor=\"black\")\n",
    "plt.plot(x_pdf, rv.pdf(x_pdf), color=\"red\", linewidth=2, label=\"pdf\")\n",
    "plt.legend();"
   ]
  },
  {
   "cell_type": "markdown",
   "metadata": {},
   "source": [
    "#### Kernel density estimation\n",
    "\n",
    "Kernel desity estimation is a tool more efficient than a histogram for density estimation. In Python kde can be performed with the gaussian_kde function."
   ]
  },
  {
   "cell_type": "code",
   "execution_count": 40,
   "metadata": {
    "collapsed": false
   },
   "outputs": [
    {
     "data": {
      "image/png": "[encoded data removed]",
      "text/plain": [
       "<matplotlib.figure.Figure at 0x10f49d518>"
      ]
     },
     "metadata": {},
     "output_type": "display_data"
    }
   ],
   "source": [
    "from scipy.stats import gaussian_kde\n",
    "\n",
    "kde = gaussian_kde(x)\n",
    "\n",
    "(hist_plt, bins_plt, patches) = plt.hist(x, bins=20, normed=True, edgecolor='black')\n",
    "plt.plot(x_pdf, rv.pdf(x_pdf), color=\"red\", linewidth=2, label=\"pdf\")\n",
    "plt.plot(x_pdf, kde(x_pdf), color=\"magenta\", linewidth=2, label=\"kde\")\n",
    "plt.legend();"
   ]
  },
  {
   "cell_type": "markdown",
   "metadata": {},
   "source": [
    "### Hypothesis testing\n",
    "\n",
    "#### Analyzing one sample\n",
    "\n",
    "As for R, many tests can be performed in Python. For instance, a single sample may be analized with:\n",
    "\n",
    "* ttest_1samp: T-test for the mean of one group of scores;\n",
    "* kstest: Kolmogorov-Smirnov test for goodness of fit;\n",
    "* ksone: General Kolmogorov-Smirnov one-sided test;\n",
    "* chisquare: One-way chi square test;\n",
    "* anderson: Anderson-Darling test for data coming from a particular distribution."
   ]
  },
  {
   "cell_type": "code",
   "execution_count": 46,
   "metadata": {
    "collapsed": false
   },
   "outputs": [
    {
     "name": "stdout",
     "output_type": "stream",
     "text": [
      "expon sample: p-value = 0.00 (statistics = 9.99)\n",
      "norm sample: p-value = 0.94 (statistics = -0.08)\n"
     ]
    }
   ],
   "source": [
    "from scipy import stats\n",
    "\n",
    "for rv in [stats.expon, stats.norm]:\n",
    "    tt, pval = stats.ttest_1samp(rv.rvs(size=100), 0)\n",
    "    print(\"{} sample: \".format(rv.name), end=\"\")\n",
    "    print(\"p-value = {0:0.2f} (statistics = {1:0.2f})\".format(pval, tt))"
   ]
  },
  {
   "cell_type": "markdown",
   "metadata": {},
   "source": [
    "```\n",
    "expon sample: p-value = 0.00 (statistics = 10.73)\n",
    "norm sample: p-value = 0.15 (statistics = -1.46)\n",
    "```\n",
    "On the one hand, the p-value for the exponential sample is small enough that we can reject the null hypothesis that the mean is 00. On the other hand, with high significance levels, we cannot reject the null hypothesis for the normal sample.\n",
    "\n",
    "Let us now test for a given distribution."
   ]
  },
  {
   "cell_type": "code",
   "execution_count": 50,
   "metadata": {
    "collapsed": false
   },
   "outputs": [
    {
     "name": "stdout",
     "output_type": "stream",
     "text": [
      "expon sample: p-value = 0.83 (statistics = 0.06)\n",
      "norm sample: p-value = 0.00 (statistics = 0.47)\n"
     ]
    }
   ],
   "source": [
    "for rv in [stats.expon, stats.norm]:\n",
    "    tt, pval = stats.kstest(rv.rvs(size=100), \"expon\")\n",
    "    print(\"{} sample: \".format(rv.name), end=\"\")\n",
    "    print(\"p-value = {0:0.2f} (statistics = {1:0.2f})\".format(pval, tt))"
   ]
  },
  {
   "cell_type": "markdown",
   "metadata": {},
   "source": [
    "```\n",
    "expon sample: p-value = 0.95 (statistics = 0.05)\n",
    "norm sample: p-value = 0.00 (statistics = 0.50)\n",
    "```\n",
    "Again, the result is as expected."
   ]
  },
  {
   "cell_type": "markdown",
   "metadata": {},
   "source": [
    "#### Testing normality\n",
    "\n",
    "As a special case, several tests exist for assessing the normality of a sample:\n",
    "\n",
    "* kurtosistest: Tests whether a dataset has normal kurtosis;\n",
    "* skewtest: Tests whether the skew is different from the normal distribution;\n",
    "* normaltest: Tests whether a sample differs from a normal distribution (D'Agostino and Pearson's test);\n",
    "* jarque_bera: Jarque-Bera goodness of fit test on sample data;\n",
    "shapiro: Shapiro-Wilk test for normality."
   ]
  },
  {
   "cell_type": "code",
   "execution_count": 51,
   "metadata": {
    "collapsed": false
   },
   "outputs": [
    {
     "name": "stdout",
     "output_type": "stream",
     "text": [
      "expon sample:\n",
      "   normal skew test:    p-value = 0.00 (statistics = 4.28)\n",
      "   normal kurtosis test:    p-value = 0.00 (statistics = 4.73)\n",
      "norm sample:\n",
      "   normal skew test:    p-value = 0.14 (statistics = -1.46)\n",
      "   normal kurtosis test:    p-value = 0.94 (statistics = -0.07)\n"
     ]
    }
   ],
   "source": [
    "for rv in [stats.expon, stats.norm]:\n",
    "    print(\"{} sample:\".format(rv.name))\n",
    "    for name, test in [('skew', stats.skewtest), ('kurtosis', stats.kurtosistest)]:\n",
    "        tt, pval = test(rv.rvs(size=100))\n",
    "        print(\"   normal {} test: \".format(name), end=\"\")\n",
    "        print(\"   p-value = {0:0.2f} (statistics = {1:0.2f})\".format(pval, tt))"
   ]
  },
  {
   "cell_type": "markdown",
   "metadata": {},
   "source": [
    "Note that these two tests are combined in the normality test."
   ]
  },
  {
   "cell_type": "code",
   "execution_count": 52,
   "metadata": {
    "collapsed": false
   },
   "outputs": [
    {
     "name": "stdout",
     "output_type": "stream",
     "text": [
      "expon sample: p-value = 0.00 (statistics = 42.57)\n",
      "norm sample: p-value = 0.83 (statistics = 0.37)\n"
     ]
    }
   ],
   "source": [
    "for rv in [stats.expon, stats.norm]:\n",
    "    tt, pval = stats.normaltest(rv.rvs(size=100))\n",
    "    print(\"{} sample: \".format(rv.name), end=\"\")\n",
    "    print(\"p-value = {0:0.2f} (statistics = {1:0.2f})\".format(pval, tt))"
   ]
  },
  {
   "cell_type": "markdown",
   "metadata": {},
   "source": [
    "#### Comparing two samples"
   ]
  },
  {
   "cell_type": "markdown",
   "metadata": {},
   "source": [
    "Again, many tests for two samples are available in the Scipy.stats module:\n",
    "\n",
    "* ks_2samp: Kolmogorov-Smirnov test for 2 samples;\n",
    "* ttest_ind: T-test for the means of two independent samples of scores;\n",
    "* kstwobign: Kolmogorov-Smirnov two-sided test for large N;\n",
    "* ttest_ind_from_stats: T-test for means of two independent samples from descriptive statistics;\n",
    "* ttest_rel: T-test on TWO RELATED samples of scores, a and b;\n",
    "* mannwhitneyu: Mann-Whitney rank test on samples x and y;\n",
    "* wilcoxon: Wilcoxon signed-rank test;\n",
    "* kruskal: Kruskal-Wallis H-test for independent samples;\n",
    "* ansari: Ansari-Bradley test for equal scale parameters;\n",
    "* bartlett: Bartlett's test for equal variances;\n",
    "* levene: Levene test for equal variances;\n",
    "* anderson_ksamp: Anderson-Darling test for k-samples;\n",
    "* fligner: Fligner-Killeen test for equality of variances;\n",
    "* median_test: Mood's median test;\n",
    "* mood: Mood's test for equal scale parameters.\n",
    "\n",
    "As an example, one can test that two independent samples have identical means or that two independent samples are drawn from the same continuous distribution."
   ]
  },
  {
   "cell_type": "code",
   "execution_count": 55,
   "metadata": {
    "collapsed": false
   },
   "outputs": [
    {
     "name": "stdout",
     "output_type": "stream",
     "text": [
      "p-value = 0.86 (statistics = -0.17)\n"
     ]
    }
   ],
   "source": [
    "rvs1 = stats.norm.rvs(size=100, loc=0., scale=1)\n",
    "rvs2 = stats.norm.rvs(size=200, loc=0.1, scale = 2)\n",
    "\n",
    "tt, pval = stats.ttest_ind(rvs1, rvs2)\n",
    "print(\"p-value = {0:0.2f} (statistics = {1:0.2f})\".format(pval, tt))"
   ]
  },
  {
   "cell_type": "markdown",
   "metadata": {},
   "source": [
    "```\n",
    "p-value = 0.70 (statistics = -0.38)\n",
    "```\n",
    "Here, the p-value is high enough that we cannot reject the null hypothesis that the two samples have identical average values. \n",
    "\n",
    "On the other hand, the following statistical test makes it possible to state that the two samples are drawn from different distribution (we reject the null hypothesis that they come from the same distribution)."
   ]
  },
  {
   "cell_type": "code",
   "execution_count": 56,
   "metadata": {
    "collapsed": false
   },
   "outputs": [
    {
     "name": "stdout",
     "output_type": "stream",
     "text": [
      "p-value = 0.00 (statistics = 0.23)\n"
     ]
    }
   ],
   "source": [
    "tt, pval = stats.ks_2samp(rvs1, rvs2)\n",
    "print(\"p-value = {0:0.2f} (statistics = {1:0.2f})\".format(pval, tt))"
   ]
  },
  {
   "cell_type": "markdown",
   "metadata": {},
   "source": [
    "```\n",
    "p-value = 0.06 (statistics = 0.16)\n",
    "```"
   ]
  },
  {
   "cell_type": "markdown",
   "metadata": {},
   "source": [
    "#### Other tests\n",
    "\n",
    "* pearsonr: Pearson correlation coefficient and the p-value for testing non-correlation;\n",
    "* spearmanr: Spearman rank-order correlation coefficient and the p-value to test for non-correlation;\n",
    "* power_divergence: Cressie-Read power divergence statistic and goodness of fit test;\n",
    "* friedmanchisquare: Friedman test for repeated measurements;\n",
    "* chi2_contingency: Chi-square test of independence of variables in a contingency table;\n",
    "* fisher_exact: Fisher exact test on a 2x2 contingency table."
   ]
  },
  {
   "cell_type": "markdown",
   "metadata": {},
   "source": [
    "## Linear models\n",
    "\n",
    "StatsModels is a scientific module based on Pandas for performing statistical analyses in Python. It provides tools for conducting data exploration, statistical tests and for the estimation of several statistical models. As a statistical package, each estimator in StatsModels comes with an extensive list of result statistics.\n",
    "\n",
    "### Linear regression\n",
    "\n",
    "We illustrate here a major feature of StatsModels, which is linear [regression](http://www.statsmodels.org/stable/regression.html#technical-documentation).\n",
    "\n",
    "#### Simple example"
   ]
  },
  {
   "cell_type": "code",
   "execution_count": 58,
   "metadata": {
    "collapsed": true
   },
   "outputs": [],
   "source": [
    "import numpy as np\n",
    "import statsmodels.api as sm\n",
    "from statsmodels.sandbox.regression.predstd import wls_prediction_std\n",
    "import matplotlib.pyplot as plt\n",
    "%matplotlib inline\n",
    "\n",
    "# Geberate data\n",
    "nsample = 50\n",
    "sig = 0.5\n",
    "x = np.linspace(0, 20, nsample)\n",
    "X = np.column_stack((x, np.sin(x), (x-5)**2, np.ones(nsample)))\n",
    "beta = [0.5, 0.5, -0.02, 5.0]\n",
    "\n",
    "y_true = np.dot(X, beta)\n",
    "y = y_true + sig * np.random.normal(size=nsample)"
   ]
  },
  {
   "cell_type": "code",
   "execution_count": 59,
   "metadata": {
    "collapsed": false
   },
   "outputs": [
    {
     "data": {
      "text/html": [
       "<table class=\"simpletable\">\n",
       "<caption>OLS Regression Results</caption>\n",
       "<tr>\n",
       "  <th>Dep. Variable:</th>            <td>y</td>        <th>  R-squared:         </th> <td>   0.949</td>\n",
       "</tr>\n",
       "<tr>\n",
       "  <th>Model:</th>                   <td>OLS</td>       <th>  Adj. R-squared:    </th> <td>   0.945</td>\n",
       "</tr>\n",
       "<tr>\n",
       "  <th>Method:</th>             <td>Least Squares</td>  <th>  F-statistic:       </th> <td>   284.0</td>\n",
       "</tr>\n",
       "<tr>\n",
       "  <th>Date:</th>             <td>Tue, 02 Jan 2018</td> <th>  Prob (F-statistic):</th> <td>1.11e-29</td>\n",
       "</tr>\n",
       "<tr>\n",
       "  <th>Time:</th>                 <td>13:11:49</td>     <th>  Log-Likelihood:    </th> <td> -26.851</td>\n",
       "</tr>\n",
       "<tr>\n",
       "  <th>No. Observations:</th>      <td>    50</td>      <th>  AIC:               </th> <td>   61.70</td>\n",
       "</tr>\n",
       "<tr>\n",
       "  <th>Df Residuals:</th>          <td>    46</td>      <th>  BIC:               </th> <td>   69.35</td>\n",
       "</tr>\n",
       "<tr>\n",
       "  <th>Df Model:</th>              <td>     3</td>      <th>                     </th>     <td> </td>   \n",
       "</tr>\n",
       "<tr>\n",
       "  <th>Covariance Type:</th>      <td>nonrobust</td>    <th>                     </th>     <td> </td>   \n",
       "</tr>\n",
       "</table>\n",
       "<table class=\"simpletable\">\n",
       "<tr>\n",
       "    <td></td>       <th>coef</th>     <th>std err</th>      <th>t</th>      <th>P>|t|</th> <th>[95.0% Conf. Int.]</th> \n",
       "</tr>\n",
       "<tr>\n",
       "  <th>x1</th>    <td>    0.4913</td> <td>    0.023</td> <td>   21.652</td> <td> 0.000</td> <td>    0.446     0.537</td>\n",
       "</tr>\n",
       "<tr>\n",
       "  <th>x2</th>    <td>    0.5524</td> <td>    0.089</td> <td>    6.193</td> <td> 0.000</td> <td>    0.373     0.732</td>\n",
       "</tr>\n",
       "<tr>\n",
       "  <th>x3</th>    <td>   -0.0203</td> <td>    0.002</td> <td>  -10.209</td> <td> 0.000</td> <td>   -0.024    -0.016</td>\n",
       "</tr>\n",
       "<tr>\n",
       "  <th>const</th> <td>    5.0771</td> <td>    0.147</td> <td>   34.512</td> <td> 0.000</td> <td>    4.781     5.373</td>\n",
       "</tr>\n",
       "</table>\n",
       "<table class=\"simpletable\">\n",
       "<tr>\n",
       "  <th>Omnibus:</th>       <td> 6.452</td> <th>  Durbin-Watson:     </th> <td>   1.991</td>\n",
       "</tr>\n",
       "<tr>\n",
       "  <th>Prob(Omnibus):</th> <td> 0.040</td> <th>  Jarque-Bera (JB):  </th> <td>   3.690</td>\n",
       "</tr>\n",
       "<tr>\n",
       "  <th>Skew:</th>          <td> 0.465</td> <th>  Prob(JB):          </th> <td>   0.158</td>\n",
       "</tr>\n",
       "<tr>\n",
       "  <th>Kurtosis:</th>      <td> 2.047</td> <th>  Cond. No.          </th> <td>    221.</td>\n",
       "</tr>\n",
       "</table>"
      ],
      "text/plain": [
       "<class 'statsmodels.iolib.summary.Summary'>\n",
       "\"\"\"\n",
       "                            OLS Regression Results                            \n",
       "==============================================================================\n",
       "Dep. Variable:                      y   R-squared:                       0.949\n",
       "Model:                            OLS   Adj. R-squared:                  0.945\n",
       "Method:                 Least Squares   F-statistic:                     284.0\n",
       "Date:                Tue, 02 Jan 2018   Prob (F-statistic):           1.11e-29\n",
       "Time:                        13:11:49   Log-Likelihood:                -26.851\n",
       "No. Observations:                  50   AIC:                             61.70\n",
       "Df Residuals:                      46   BIC:                             69.35\n",
       "Df Model:                           3                                         \n",
       "Covariance Type:            nonrobust                                         \n",
       "==============================================================================\n",
       "                 coef    std err          t      P>|t|      [95.0% Conf. Int.]\n",
       "------------------------------------------------------------------------------\n",
       "x1             0.4913      0.023     21.652      0.000         0.446     0.537\n",
       "x2             0.5524      0.089      6.193      0.000         0.373     0.732\n",
       "x3            -0.0203      0.002    -10.209      0.000        -0.024    -0.016\n",
       "const          5.0771      0.147     34.512      0.000         4.781     5.373\n",
       "==============================================================================\n",
       "Omnibus:                        6.452   Durbin-Watson:                   1.991\n",
       "Prob(Omnibus):                  0.040   Jarque-Bera (JB):                3.690\n",
       "Skew:                           0.465   Prob(JB):                        0.158\n",
       "Kurtosis:                       2.047   Cond. No.                         221.\n",
       "==============================================================================\n",
       "\n",
       "Warnings:\n",
       "[1] Standard Errors assume that the covariance matrix of the errors is correctly specified.\n",
       "\"\"\""
      ]
     },
     "execution_count": 59,
     "metadata": {},
     "output_type": "execute_result"
    }
   ],
   "source": [
    "# Fit the model\n",
    "model = sm.OLS(y, X)\n",
    "res = model.fit()\n",
    "res.summary()"
   ]
  },
  {
   "cell_type": "markdown",
   "metadata": {},
   "source": [
    "Main attributes of the fitted model are:"
   ]
  },
  {
   "cell_type": "code",
   "execution_count": 60,
   "metadata": {
    "collapsed": false
   },
   "outputs": [
    {
     "name": "stdout",
     "output_type": "stream",
     "text": [
      "Parameters:  [ 0.49  0.55 -0.02  5.08]\n",
      "Standard errors:  [ 0.02  0.09  0.    0.15]\n",
      "Predict values:  [  4.57   5.07   5.52   5.91   6.2    6.39   6.5    6.54   6.55   6.57\n",
      "   6.62   6.74   6.94   7.22   7.58   7.97   8.37   8.75   9.06   9.28\n",
      "   9.41   9.44   9.4    9.32   9.22   9.15   9.14   9.2    9.35   9.57\n",
      "   9.85  10.15  10.43  10.67  10.83  10.89  10.85  10.74  10.56  10.36\n",
      "  10.17  10.03   9.95   9.96  10.05  10.21  10.4   10.59  10.74  10.83]\n"
     ]
    }
   ],
   "source": [
    "print(\"Parameters: \", res.params)\n",
    "print(\"Standard errors: \", res.bse)\n",
    "print(\"Predict values: \", res.fittedvalues)"
   ]
  },
  {
   "cell_type": "markdown",
   "metadata": {},
   "source": [
    "A method called predict is also available for prediction with the estimator."
   ]
  },
  {
   "cell_type": "code",
   "execution_count": 61,
   "metadata": {
    "collapsed": false
   },
   "outputs": [
    {
     "data": {
      "text/plain": [
       "array([  4.57,   5.07,   5.52,   5.91,   6.2 ,   6.39,   6.5 ,   6.54,\n",
       "         6.55,   6.57,   6.62,   6.74,   6.94,   7.22,   7.58,   7.97,\n",
       "         8.37,   8.75,   9.06,   9.28,   9.41,   9.44,   9.4 ,   9.32,\n",
       "         9.22,   9.15,   9.14,   9.2 ,   9.35,   9.57,   9.85,  10.15,\n",
       "        10.43,  10.67,  10.83,  10.89,  10.85,  10.74,  10.56,  10.36,\n",
       "        10.17,  10.03,   9.95,   9.96,  10.05,  10.21,  10.4 ,  10.59,\n",
       "        10.74,  10.83])"
      ]
     },
     "execution_count": 61,
     "metadata": {},
     "output_type": "execute_result"
    }
   ],
   "source": [
    "res.predict(X) # Same as res.fittedvalues"
   ]
  },
  {
   "cell_type": "code",
   "execution_count": 62,
   "metadata": {
    "collapsed": false
   },
   "outputs": [
    {
     "data": {
      "image/png": "[encoded data removed]",
      "text/plain": [
       "<matplotlib.figure.Figure at 0x10d9896a0>"
      ]
     },
     "metadata": {},
     "output_type": "display_data"
    }
   ],
   "source": [
    "# Plot the regression\n",
    "prstd, iv_l, iv_u = wls_prediction_std(res)  # Curves for standard deviation\n",
    "\n",
    "plt.plot(x, y, 'o', label=\"data\")\n",
    "plt.plot(x, y_true, 'b-', label=\"True\")\n",
    "plt.plot(x, res.fittedvalues, 'r--.', label=\"OLS\")\n",
    "plt.plot(x, iv_u, 'r--')\n",
    "plt.plot(x, iv_l, 'r--')\n",
    "plt.legend(loc='best');"
   ]
  },
  {
   "cell_type": "code",
   "execution_count": 63,
   "metadata": {
    "collapsed": false
   },
   "outputs": [
    {
     "name": "stdout",
     "output_type": "stream",
     "text": [
      "[-0.08 -0.47  0.3  -0.36 -0.09 -0.54  0.71  0.38  0.16  0.1   0.45  0.44\n",
      " -0.49 -0.5   0.03  0.03  0.53  0.44 -0.27 -0.29 -0.64  0.38  0.01 -0.35\n",
      " -0.4   0.34  0.78 -0.14 -0.48 -0.39  0.75 -0.35 -0.44  0.1   0.89 -0.05\n",
      " -0.08 -0.36 -0.26  0.5  -0.36 -0.03 -0.39  0.3   0.09 -0.33 -0.35  0.41\n",
      "  0.76 -0.38]\n"
     ]
    }
   ],
   "source": [
    "residues = y - res.predict(X) # Same as res.resid\n",
    "print(residues)"
   ]
  },
  {
   "cell_type": "markdown",
   "metadata": {},
   "source": [
    "The sum of squared residuals (or residual sum of squares)."
   ]
  },
  {
   "cell_type": "code",
   "execution_count": 64,
   "metadata": {
    "collapsed": false
   },
   "outputs": [
    {
     "name": "stdout",
     "output_type": "stream",
     "text": [
      "8.5693044975 8.5693044975\n"
     ]
    }
   ],
   "source": [
    "print(np.sum(res.resid**2), res.ssr)"
   ]
  },
  {
   "cell_type": "markdown",
   "metadata": {},
   "source": [
    "While an unbiased estimate of the variance is."
   ]
  },
  {
   "cell_type": "code",
   "execution_count": 65,
   "metadata": {
    "collapsed": false
   },
   "outputs": [
    {
     "name": "stdout",
     "output_type": "stream",
     "text": [
      "0.186289228207\n"
     ]
    }
   ],
   "source": [
    "print(res.ssr / res.df_resid) # Same as res.scale"
   ]
  },
  {
   "cell_type": "markdown",
   "metadata": {},
   "source": [
    "The hat (or projection matrix)."
   ]
  },
  {
   "cell_type": "code",
   "execution_count": 66,
   "metadata": {
    "collapsed": true
   },
   "outputs": [],
   "source": [
    "H = X.dot(np.linalg.solve(X.T.dot(X), X.T))"
   ]
  },
  {
   "cell_type": "markdown",
   "metadata": {},
   "source": [
    "Then the studentized residuals."
   ]
  },
  {
   "cell_type": "code",
   "execution_count": 67,
   "metadata": {
    "collapsed": false
   },
   "outputs": [
    {
     "name": "stdout",
     "output_type": "stream",
     "text": [
      "[-0.19 -1.17  0.74 -0.88 -0.22 -1.32  1.74  0.9   0.38  0.24  1.08  1.06\n",
      " -1.2  -1.2   0.07  0.06  1.25  1.05 -0.64 -0.69 -1.58  0.92  0.03 -0.82\n",
      " -0.96  0.82  1.95 -0.34 -1.16 -0.93  1.81 -0.83 -1.05  0.24  2.26 -0.12\n",
      " -0.2  -0.86 -0.61  1.19 -0.86 -0.08 -0.96  0.74  0.22 -0.8  -0.85  1.02\n",
      "  1.99 -0.99]\n"
     ]
    }
   ],
   "source": [
    "t = res.resid / np.sqrt(res.scale * (1 - np.diag(H))) # Standardized residuals\n",
    "ts = t * np.sqrt((res.df_resid - 1) / (res.df_resid - t**2)) # Studentized residuals\n",
    "print(ts) # Similar to res.outlier_test()[:, 0]"
   ]
  },
  {
   "cell_type": "code",
   "execution_count": 68,
   "metadata": {
    "collapsed": false
   },
   "outputs": [
    {
     "data": {
      "text/plain": [
       "[]"
      ]
     },
     "execution_count": 68,
     "metadata": {},
     "output_type": "execute_result"
    },
    {
     "data": {
      "image/png": "[encoded data removed]",
      "text/plain": [
       "<matplotlib.figure.Figure at 0x11296da20>"
      ]
     },
     "metadata": {},
     "output_type": "display_data"
    }
   ],
   "source": [
    "plt.figure()\n",
    "plt.plot(ts, '.')\n",
    "plt.plot([0, X.shape[0]], [-2]*2, 'r')\n",
    "plt.plot([0, X.shape[0]], [2]*2, 'r')\n",
    "outliers = np.where(res.outlier_test()[:, -1]<0.1)\n",
    "plt.plot(outliers, res.outlier_test()[outliers, 0], 'ro')"
   ]
  },
  {
   "cell_type": "markdown",
   "metadata": {},
   "source": [
    "Note that studentized residuals are only asymptotically normal."
   ]
  },
  {
   "cell_type": "code",
   "execution_count": 69,
   "metadata": {
    "collapsed": false
   },
   "outputs": [
    {
     "name": "stdout",
     "output_type": "stream",
     "text": [
      "NormaltestResult(statistic=5.307825025910466, pvalue=0.070375329325301661)\n"
     ]
    }
   ],
   "source": [
    "from scipy.stats import normaltest, probplot\n",
    "\n",
    "print(normaltest(ts))"
   ]
  },
  {
   "cell_type": "code",
   "execution_count": 70,
   "metadata": {
    "collapsed": false
   },
   "outputs": [
    {
     "data": {
      "image/png": "[encoded data removed]",
      "text/plain": [
       "<matplotlib.figure.Figure at 0x11209ac18>"
      ]
     },
     "metadata": {},
     "output_type": "display_data"
    }
   ],
   "source": [
    "from scipy.stats import t as student_dist\n",
    "\n",
    "probplot(ts, dist=student_dist(df=res.df_resid-1), plot=plt);"
   ]
  },
  {
   "cell_type": "code",
   "execution_count": 71,
   "metadata": {
    "collapsed": false
   },
   "outputs": [
    {
     "data": {
      "image/png": "[encoded data removed]",
      "text/plain": [
       "<matplotlib.figure.Figure at 0x11292bf28>"
      ]
     },
     "metadata": {},
     "output_type": "display_data"
    }
   ],
   "source": [
    "probplot(ts, dist='norm', plot=plt);"
   ]
  },
  {
   "cell_type": "code",
   "execution_count": 72,
   "metadata": {
    "collapsed": false
   },
   "outputs": [
    {
     "data": {
      "image/png": "[encoded data removed]",
      "text/plain": [
       "<matplotlib.figure.Figure at 0x11296c8d0>"
      ]
     },
     "metadata": {},
     "output_type": "display_data"
    }
   ],
   "source": [
    "probplot(res.resid, dist='norm', plot=plt);"
   ]
  },
  {
   "cell_type": "markdown",
   "metadata": {},
   "source": [
    "#### Another example"
   ]
  },
  {
   "cell_type": "code",
   "execution_count": 74,
   "metadata": {
    "collapsed": false
   },
   "outputs": [
    {
     "data": {
      "text/html": [
       "<div>\n",
       "<table border=\"1\" class=\"dataframe\">\n",
       "  <thead>\n",
       "    <tr style=\"text-align: right;\">\n",
       "      <th></th>\n",
       "      <th>sepal_length</th>\n",
       "      <th>sepal_width</th>\n",
       "      <th>petal_length</th>\n",
       "      <th>petal_width</th>\n",
       "    </tr>\n",
       "  </thead>\n",
       "  <tbody>\n",
       "    <tr>\n",
       "      <th>count</th>\n",
       "      <td>150.000000</td>\n",
       "      <td>150.000000</td>\n",
       "      <td>150.000000</td>\n",
       "      <td>150.000000</td>\n",
       "    </tr>\n",
       "    <tr>\n",
       "      <th>mean</th>\n",
       "      <td>5.843333</td>\n",
       "      <td>3.057333</td>\n",
       "      <td>3.758000</td>\n",
       "      <td>1.199333</td>\n",
       "    </tr>\n",
       "    <tr>\n",
       "      <th>std</th>\n",
       "      <td>0.828066</td>\n",
       "      <td>0.435866</td>\n",
       "      <td>1.765298</td>\n",
       "      <td>0.762238</td>\n",
       "    </tr>\n",
       "    <tr>\n",
       "      <th>min</th>\n",
       "      <td>4.300000</td>\n",
       "      <td>2.000000</td>\n",
       "      <td>1.000000</td>\n",
       "      <td>0.100000</td>\n",
       "    </tr>\n",
       "    <tr>\n",
       "      <th>25%</th>\n",
       "      <td>5.100000</td>\n",
       "      <td>2.800000</td>\n",
       "      <td>1.600000</td>\n",
       "      <td>0.300000</td>\n",
       "    </tr>\n",
       "    <tr>\n",
       "      <th>50%</th>\n",
       "      <td>5.800000</td>\n",
       "      <td>3.000000</td>\n",
       "      <td>4.350000</td>\n",
       "      <td>1.300000</td>\n",
       "    </tr>\n",
       "    <tr>\n",
       "      <th>75%</th>\n",
       "      <td>6.400000</td>\n",
       "      <td>3.300000</td>\n",
       "      <td>5.100000</td>\n",
       "      <td>1.800000</td>\n",
       "    </tr>\n",
       "    <tr>\n",
       "      <th>max</th>\n",
       "      <td>7.900000</td>\n",
       "      <td>4.400000</td>\n",
       "      <td>6.900000</td>\n",
       "      <td>2.500000</td>\n",
       "    </tr>\n",
       "  </tbody>\n",
       "</table>\n",
       "</div>"
      ],
      "text/plain": [
       "       sepal_length  sepal_width  petal_length  petal_width\n",
       "count    150.000000   150.000000    150.000000   150.000000\n",
       "mean       5.843333     3.057333      3.758000     1.199333\n",
       "std        0.828066     0.435866      1.765298     0.762238\n",
       "min        4.300000     2.000000      1.000000     0.100000\n",
       "25%        5.100000     2.800000      1.600000     0.300000\n",
       "50%        5.800000     3.000000      4.350000     1.300000\n",
       "75%        6.400000     3.300000      5.100000     1.800000\n",
       "max        7.900000     4.400000      6.900000     2.500000"
      ]
     },
     "execution_count": 74,
     "metadata": {},
     "output_type": "execute_result"
    }
   ],
   "source": [
    "df = sm.datasets.get_rdataset(\"iris\").data\n",
    "# Make name pythonic\n",
    "df.columns = [name.replace(\".\", \"_\").lower() for name in df.columns]\n",
    "\n",
    "df.describe()"
   ]
  },
  {
   "cell_type": "code",
   "execution_count": 80,
   "metadata": {
    "collapsed": false
   },
   "outputs": [
    {
     "data": {
      "text/html": [
       "<div>\n",
       "<table border=\"1\" class=\"dataframe\">\n",
       "  <thead>\n",
       "    <tr style=\"text-align: right;\">\n",
       "      <th></th>\n",
       "      <th>sepal_length</th>\n",
       "      <th>sepal_width</th>\n",
       "      <th>petal_length</th>\n",
       "      <th>petal_width</th>\n",
       "      <th>species</th>\n",
       "    </tr>\n",
       "  </thead>\n",
       "  <tbody>\n",
       "    <tr>\n",
       "      <th>0</th>\n",
       "      <td>5.1</td>\n",
       "      <td>3.5</td>\n",
       "      <td>1.4</td>\n",
       "      <td>0.2</td>\n",
       "      <td>setosa</td>\n",
       "    </tr>\n",
       "    <tr>\n",
       "      <th>1</th>\n",
       "      <td>4.9</td>\n",
       "      <td>3.0</td>\n",
       "      <td>1.4</td>\n",
       "      <td>0.2</td>\n",
       "      <td>setosa</td>\n",
       "    </tr>\n",
       "    <tr>\n",
       "      <th>2</th>\n",
       "      <td>4.7</td>\n",
       "      <td>3.2</td>\n",
       "      <td>1.3</td>\n",
       "      <td>0.2</td>\n",
       "      <td>setosa</td>\n",
       "    </tr>\n",
       "    <tr>\n",
       "      <th>3</th>\n",
       "      <td>4.6</td>\n",
       "      <td>3.1</td>\n",
       "      <td>1.5</td>\n",
       "      <td>0.2</td>\n",
       "      <td>setosa</td>\n",
       "    </tr>\n",
       "    <tr>\n",
       "      <th>4</th>\n",
       "      <td>5.0</td>\n",
       "      <td>3.6</td>\n",
       "      <td>1.4</td>\n",
       "      <td>0.2</td>\n",
       "      <td>setosa</td>\n",
       "    </tr>\n",
       "  </tbody>\n",
       "</table>\n",
       "</div>"
      ],
      "text/plain": [
       "   sepal_length  sepal_width  petal_length  petal_width species\n",
       "0           5.1          3.5           1.4          0.2  setosa\n",
       "1           4.9          3.0           1.4          0.2  setosa\n",
       "2           4.7          3.2           1.3          0.2  setosa\n",
       "3           4.6          3.1           1.5          0.2  setosa\n",
       "4           5.0          3.6           1.4          0.2  setosa"
      ]
     },
     "execution_count": 80,
     "metadata": {},
     "output_type": "execute_result"
    }
   ],
   "source": [
    "df.head()"
   ]
  },
  {
   "cell_type": "code",
   "execution_count": 76,
   "metadata": {
    "collapsed": false
   },
   "outputs": [
    {
     "data": {
      "text/plain": [
       "sepal_length    False\n",
       "sepal_width     False\n",
       "petal_length    False\n",
       "petal_width     False\n",
       "species         False\n",
       "dtype: bool"
      ]
     },
     "execution_count": 76,
     "metadata": {},
     "output_type": "execute_result"
    }
   ],
   "source": [
    "df.isnull().any()"
   ]
  },
  {
   "cell_type": "code",
   "execution_count": 77,
   "metadata": {
    "collapsed": false
   },
   "outputs": [
    {
     "data": {
      "text/html": [
       "<table class=\"simpletable\">\n",
       "<caption>OLS Regression Results</caption>\n",
       "<tr>\n",
       "  <th>Dep. Variable:</th>      <td>sepal_length</td>   <th>  R-squared:         </th> <td>   0.766</td>\n",
       "</tr>\n",
       "<tr>\n",
       "  <th>Model:</th>                   <td>OLS</td>       <th>  Adj. R-squared:    </th> <td>   0.763</td>\n",
       "</tr>\n",
       "<tr>\n",
       "  <th>Method:</th>             <td>Least Squares</td>  <th>  F-statistic:       </th> <td>   241.0</td>\n",
       "</tr>\n",
       "<tr>\n",
       "  <th>Date:</th>             <td>Tue, 02 Jan 2018</td> <th>  Prob (F-statistic):</th> <td>4.00e-47</td>\n",
       "</tr>\n",
       "<tr>\n",
       "  <th>Time:</th>                 <td>17:47:42</td>     <th>  Log-Likelihood:    </th> <td> -75.023</td>\n",
       "</tr>\n",
       "<tr>\n",
       "  <th>No. Observations:</th>      <td>   150</td>      <th>  AIC:               </th> <td>   156.0</td>\n",
       "</tr>\n",
       "<tr>\n",
       "  <th>Df Residuals:</th>          <td>   147</td>      <th>  BIC:               </th> <td>   165.1</td>\n",
       "</tr>\n",
       "<tr>\n",
       "  <th>Df Model:</th>              <td>     2</td>      <th>                     </th>     <td> </td>   \n",
       "</tr>\n",
       "<tr>\n",
       "  <th>Covariance Type:</th>      <td>nonrobust</td>    <th>                     </th>     <td> </td>   \n",
       "</tr>\n",
       "</table>\n",
       "<table class=\"simpletable\">\n",
       "<tr>\n",
       "        <td></td>          <th>coef</th>     <th>std err</th>      <th>t</th>      <th>P>|t|</th> <th>[95.0% Conf. Int.]</th> \n",
       "</tr>\n",
       "<tr>\n",
       "  <th>Intercept</th>    <td>    4.1906</td> <td>    0.097</td> <td>   43.181</td> <td> 0.000</td> <td>    3.999     4.382</td>\n",
       "</tr>\n",
       "<tr>\n",
       "  <th>petal_length</th> <td>    0.5418</td> <td>    0.069</td> <td>    7.820</td> <td> 0.000</td> <td>    0.405     0.679</td>\n",
       "</tr>\n",
       "<tr>\n",
       "  <th>petal_width</th>  <td>   -0.3196</td> <td>    0.160</td> <td>   -1.992</td> <td> 0.048</td> <td>   -0.637    -0.002</td>\n",
       "</tr>\n",
       "</table>\n",
       "<table class=\"simpletable\">\n",
       "<tr>\n",
       "  <th>Omnibus:</th>       <td> 0.383</td> <th>  Durbin-Watson:     </th> <td>   1.826</td>\n",
       "</tr>\n",
       "<tr>\n",
       "  <th>Prob(Omnibus):</th> <td> 0.826</td> <th>  Jarque-Bera (JB):  </th> <td>   0.540</td>\n",
       "</tr>\n",
       "<tr>\n",
       "  <th>Skew:</th>          <td> 0.060</td> <th>  Prob(JB):          </th> <td>   0.763</td>\n",
       "</tr>\n",
       "<tr>\n",
       "  <th>Kurtosis:</th>      <td> 2.732</td> <th>  Cond. No.          </th> <td>    25.3</td>\n",
       "</tr>\n",
       "</table>"
      ],
      "text/plain": [
       "<class 'statsmodels.iolib.summary.Summary'>\n",
       "\"\"\"\n",
       "                            OLS Regression Results                            \n",
       "==============================================================================\n",
       "Dep. Variable:           sepal_length   R-squared:                       0.766\n",
       "Model:                            OLS   Adj. R-squared:                  0.763\n",
       "Method:                 Least Squares   F-statistic:                     241.0\n",
       "Date:                Tue, 02 Jan 2018   Prob (F-statistic):           4.00e-47\n",
       "Time:                        17:47:42   Log-Likelihood:                -75.023\n",
       "No. Observations:                 150   AIC:                             156.0\n",
       "Df Residuals:                     147   BIC:                             165.1\n",
       "Df Model:                           2                                         \n",
       "Covariance Type:            nonrobust                                         \n",
       "================================================================================\n",
       "                   coef    std err          t      P>|t|      [95.0% Conf. Int.]\n",
       "--------------------------------------------------------------------------------\n",
       "Intercept        4.1906      0.097     43.181      0.000         3.999     4.382\n",
       "petal_length     0.5418      0.069      7.820      0.000         0.405     0.679\n",
       "petal_width     -0.3196      0.160     -1.992      0.048        -0.637    -0.002\n",
       "==============================================================================\n",
       "Omnibus:                        0.383   Durbin-Watson:                   1.826\n",
       "Prob(Omnibus):                  0.826   Jarque-Bera (JB):                0.540\n",
       "Skew:                           0.060   Prob(JB):                        0.763\n",
       "Kurtosis:                       2.732   Cond. No.                         25.3\n",
       "==============================================================================\n",
       "\n",
       "Warnings:\n",
       "[1] Standard Errors assume that the covariance matrix of the errors is correctly specified.\n",
       "\"\"\""
      ]
     },
     "execution_count": 77,
     "metadata": {},
     "output_type": "execute_result"
    }
   ],
   "source": [
    "import statsmodels.formula.api as smf\n",
    "\n",
    "model = smf.ols(\"sepal_length ~ petal_length + petal_width\", data=df)\n",
    "res = model.fit()\n",
    "res.summary()"
   ]
  },
  {
   "cell_type": "markdown",
   "metadata": {},
   "source": [
    "StatsModels accepts categorical variables."
   ]
  },
  {
   "cell_type": "code",
   "execution_count": 79,
   "metadata": {
    "collapsed": false
   },
   "outputs": [
    {
     "data": {
      "text/html": [
       "<table class=\"simpletable\">\n",
       "<caption>OLS Regression Results</caption>\n",
       "<tr>\n",
       "  <th>Dep. Variable:</th>      <td>sepal_length</td>   <th>  R-squared:         </th> <td>   0.837</td>\n",
       "</tr>\n",
       "<tr>\n",
       "  <th>Model:</th>                   <td>OLS</td>       <th>  Adj. R-squared:    </th> <td>   0.832</td>\n",
       "</tr>\n",
       "<tr>\n",
       "  <th>Method:</th>             <td>Least Squares</td>  <th>  F-statistic:       </th> <td>   185.8</td>\n",
       "</tr>\n",
       "<tr>\n",
       "  <th>Date:</th>             <td>Tue, 02 Jan 2018</td> <th>  Prob (F-statistic):</th> <td>5.33e-56</td>\n",
       "</tr>\n",
       "<tr>\n",
       "  <th>Time:</th>                 <td>17:51:35</td>     <th>  Log-Likelihood:    </th> <td> -48.116</td>\n",
       "</tr>\n",
       "<tr>\n",
       "  <th>No. Observations:</th>      <td>   150</td>      <th>  AIC:               </th> <td>   106.2</td>\n",
       "</tr>\n",
       "<tr>\n",
       "  <th>Df Residuals:</th>          <td>   145</td>      <th>  BIC:               </th> <td>   121.3</td>\n",
       "</tr>\n",
       "<tr>\n",
       "  <th>Df Model:</th>              <td>     4</td>      <th>                     </th>     <td> </td>   \n",
       "</tr>\n",
       "<tr>\n",
       "  <th>Covariance Type:</th>      <td>nonrobust</td>    <th>                     </th>     <td> </td>   \n",
       "</tr>\n",
       "</table>\n",
       "<table class=\"simpletable\">\n",
       "<tr>\n",
       "              <td></td>                <th>coef</th>     <th>std err</th>      <th>t</th>      <th>P>|t|</th> <th>[95.0% Conf. Int.]</th> \n",
       "</tr>\n",
       "<tr>\n",
       "  <th>Intercept</th>                <td>    3.6830</td> <td>    0.107</td> <td>   34.291</td> <td> 0.000</td> <td>    3.471     3.895</td>\n",
       "</tr>\n",
       "<tr>\n",
       "  <th>C(species)[T.versicolor]</th> <td>   -1.5984</td> <td>    0.206</td> <td>   -7.770</td> <td> 0.000</td> <td>   -2.005    -1.192</td>\n",
       "</tr>\n",
       "<tr>\n",
       "  <th>C(species)[T.virginica]</th>  <td>   -2.1126</td> <td>    0.304</td> <td>   -6.949</td> <td> 0.000</td> <td>   -2.714    -1.512</td>\n",
       "</tr>\n",
       "<tr>\n",
       "  <th>petal_length</th>             <td>    0.9059</td> <td>    0.074</td> <td>   12.191</td> <td> 0.000</td> <td>    0.759     1.053</td>\n",
       "</tr>\n",
       "<tr>\n",
       "  <th>petal_width</th>              <td>   -0.0060</td> <td>    0.156</td> <td>   -0.038</td> <td> 0.969</td> <td>   -0.315     0.303</td>\n",
       "</tr>\n",
       "</table>\n",
       "<table class=\"simpletable\">\n",
       "<tr>\n",
       "  <th>Omnibus:</th>       <td> 0.587</td> <th>  Durbin-Watson:     </th> <td>   1.802</td>\n",
       "</tr>\n",
       "<tr>\n",
       "  <th>Prob(Omnibus):</th> <td> 0.746</td> <th>  Jarque-Bera (JB):  </th> <td>   0.679</td>\n",
       "</tr>\n",
       "<tr>\n",
       "  <th>Skew:</th>          <td> 0.142</td> <th>  Prob(JB):          </th> <td>   0.712</td>\n",
       "</tr>\n",
       "<tr>\n",
       "  <th>Kurtosis:</th>      <td> 2.832</td> <th>  Cond. No.          </th> <td>    61.5</td>\n",
       "</tr>\n",
       "</table>"
      ],
      "text/plain": [
       "<class 'statsmodels.iolib.summary.Summary'>\n",
       "\"\"\"\n",
       "                            OLS Regression Results                            \n",
       "==============================================================================\n",
       "Dep. Variable:           sepal_length   R-squared:                       0.837\n",
       "Model:                            OLS   Adj. R-squared:                  0.832\n",
       "Method:                 Least Squares   F-statistic:                     185.8\n",
       "Date:                Tue, 02 Jan 2018   Prob (F-statistic):           5.33e-56\n",
       "Time:                        17:51:35   Log-Likelihood:                -48.116\n",
       "No. Observations:                 150   AIC:                             106.2\n",
       "Df Residuals:                     145   BIC:                             121.3\n",
       "Df Model:                           4                                         \n",
       "Covariance Type:            nonrobust                                         \n",
       "============================================================================================\n",
       "                               coef    std err          t      P>|t|      [95.0% Conf. Int.]\n",
       "--------------------------------------------------------------------------------------------\n",
       "Intercept                    3.6830      0.107     34.291      0.000         3.471     3.895\n",
       "C(species)[T.versicolor]    -1.5984      0.206     -7.770      0.000        -2.005    -1.192\n",
       "C(species)[T.virginica]     -2.1126      0.304     -6.949      0.000        -2.714    -1.512\n",
       "petal_length                 0.9059      0.074     12.191      0.000         0.759     1.053\n",
       "petal_width                 -0.0060      0.156     -0.038      0.969        -0.315     0.303\n",
       "==============================================================================\n",
       "Omnibus:                        0.587   Durbin-Watson:                   1.802\n",
       "Prob(Omnibus):                  0.746   Jarque-Bera (JB):                0.679\n",
       "Skew:                           0.142   Prob(JB):                        0.712\n",
       "Kurtosis:                       2.832   Cond. No.                         61.5\n",
       "==============================================================================\n",
       "\n",
       "Warnings:\n",
       "[1] Standard Errors assume that the covariance matrix of the errors is correctly specified.\n",
       "\"\"\""
      ]
     },
     "execution_count": 79,
     "metadata": {},
     "output_type": "execute_result"
    }
   ],
   "source": [
    "model = smf.ols('sepal_length ~ petal_length + petal_width + C(species)', data=df)\n",
    "res = model.fit()\n",
    "res.summary()"
   ]
  },
  {
   "cell_type": "markdown",
   "metadata": {},
   "source": [
    "To regress a variable y on all others, there is no notation equivalent to y `~`. in R. Instead, you can use the following workaround."
   ]
  },
  {
   "cell_type": "code",
   "execution_count": 81,
   "metadata": {
    "collapsed": false
   },
   "outputs": [
    {
     "name": "stdout",
     "output_type": "stream",
     "text": [
      "sepal_length ~ petal_length + petal_width + sepal_width + species\n"
     ]
    }
   ],
   "source": [
    "def all_predictors(df, outcome):\n",
    "    return outcome + \" ~ \" + \" + \".join(df.columns.difference([outcome]))\n",
    "\n",
    "print(all_predictors(df, \"sepal_length\"))"
   ]
  },
  {
   "cell_type": "markdown",
   "metadata": {},
   "source": [
    "### ANOVA\n",
    "\n",
    "An analysis of variance in union with a linear regression tests if a categorical explicative variable has an impact on the observed variable or not. In practice, it checks that the mean of the observations is the same regardless of the modalities of the categorical variable."
   ]
  },
  {
   "cell_type": "code",
   "execution_count": 84,
   "metadata": {
    "collapsed": false
   },
   "outputs": [
    {
     "data": {
      "image/png": "[encoded data removed]",
      "text/plain": [
       "<matplotlib.figure.Figure at 0x114021518>"
      ]
     },
     "metadata": {},
     "output_type": "display_data"
    }
   ],
   "source": [
    "# Obwervations without continuous variable contributions\n",
    "observations = df[\"sepal_length\"] - res.params[\"petal_length\"] * df[\"petal_length\"] - \\\n",
    "                res.params[\"petal_length\"] * df[\"petal_width\"]\n",
    "    \n",
    "plt.plot(observations[df['species']=='setosa'], label=\"setosa\")\n",
    "plt.plot(observations[df['species']=='versicolor'], label=\"versicolor\")\n",
    "plt.plot(observations[df['species']=='virginica'], label=\"virginica\")\n",
    "plt.legend(loc='best');"
   ]
  },
  {
   "cell_type": "markdown",
   "metadata": {},
   "source": [
    "Intuitively, it seems that the species has an impact on sepal_length since the means are different according to the modalities of species (setosa, versicolor, virginica).\n",
    "\n",
    "To perform an ANOVA, we first check that the subsamples are normal with equal variances."
   ]
  },
  {
   "cell_type": "code",
   "execution_count": 85,
   "metadata": {
    "collapsed": false
   },
   "outputs": [
    {
     "name": "stdout",
     "output_type": "stream",
     "text": [
      "NormaltestResult(statistic=4.2139745757907638, pvalue=0.1216037722795608)\n",
      "NormaltestResult(statistic=2.3298170303207675, pvalue=0.31195119953270994)\n",
      "NormaltestResult(statistic=1.4125360760099634, pvalue=0.49348242288116784)\n"
     ]
    }
   ],
   "source": [
    "from scipy.stats import levene, bartlett, normaltest\n",
    "\n",
    "for modality in ['setosa', 'versicolor', 'virginica']:\n",
    "    print(normaltest(observations[df['species']==modality]))"
   ]
  },
  {
   "cell_type": "markdown",
   "metadata": {},
   "source": [
    "Samples can be considered normaly distributed. What about the variances?"
   ]
  },
  {
   "cell_type": "code",
   "execution_count": 86,
   "metadata": {
    "collapsed": false
   },
   "outputs": [
    {
     "name": "stdout",
     "output_type": "stream",
     "text": [
      "LeveneResult(statistic=1.2870792589709708, pvalue=0.27916845176000582)\n",
      "BartlettResult(statistic=1.5018143329366522, pvalue=0.47193823195211182)\n"
     ]
    }
   ],
   "source": [
    "print(levene(observations[df['species']=='setosa'], observations[df['species']=='versicolor'],\n",
    "             observations[df['species']=='virginica']))\n",
    "print(bartlett(observations[df['species']=='setosa'], observations[df['species']=='versicolor'],\n",
    "               observations[df['species']=='virginica']))"
   ]
  },
  {
   "cell_type": "markdown",
   "metadata": {},
   "source": [
    "Variances can be considered the same. Let us now display the ANOVA table."
   ]
  },
  {
   "cell_type": "code",
   "execution_count": 88,
   "metadata": {
    "collapsed": false
   },
   "outputs": [
    {
     "name": "stderr",
     "output_type": "stream",
     "text": [
      "//anaconda/lib/python3.6/site-packages/scipy/stats/_distn_infrastructure.py:875: RuntimeWarning: invalid value encountered in greater\n",
      "  return (self.a < x) & (x < self.b)\n",
      "//anaconda/lib/python3.6/site-packages/scipy/stats/_distn_infrastructure.py:875: RuntimeWarning: invalid value encountered in less\n",
      "  return (self.a < x) & (x < self.b)\n",
      "//anaconda/lib/python3.6/site-packages/scipy/stats/_distn_infrastructure.py:1814: RuntimeWarning: invalid value encountered in less_equal\n",
      "  cond2 = cond0 & (x <= self.a)\n"
     ]
    },
    {
     "data": {
      "text/html": [
       "<div>\n",
       "<table border=\"1\" class=\"dataframe\">\n",
       "  <thead>\n",
       "    <tr style=\"text-align: right;\">\n",
       "      <th></th>\n",
       "      <th>df</th>\n",
       "      <th>sum_sq</th>\n",
       "      <th>mean_sq</th>\n",
       "      <th>F</th>\n",
       "      <th>PR(&gt;F)</th>\n",
       "    </tr>\n",
       "  </thead>\n",
       "  <tbody>\n",
       "    <tr>\n",
       "      <th>C(species)</th>\n",
       "      <td>2.0</td>\n",
       "      <td>63.212133</td>\n",
       "      <td>31.606067</td>\n",
       "      <td>274.728446</td>\n",
       "      <td>4.785160e-50</td>\n",
       "    </tr>\n",
       "    <tr>\n",
       "      <th>petal_length</th>\n",
       "      <td>1.0</td>\n",
       "      <td>22.274541</td>\n",
       "      <td>22.274541</td>\n",
       "      <td>193.616313</td>\n",
       "      <td>1.718161e-28</td>\n",
       "    </tr>\n",
       "    <tr>\n",
       "      <th>petal_width</th>\n",
       "      <td>1.0</td>\n",
       "      <td>0.000169</td>\n",
       "      <td>0.000169</td>\n",
       "      <td>0.001472</td>\n",
       "      <td>9.694469e-01</td>\n",
       "    </tr>\n",
       "    <tr>\n",
       "      <th>Residual</th>\n",
       "      <td>145.0</td>\n",
       "      <td>16.681489</td>\n",
       "      <td>0.115045</td>\n",
       "      <td>NaN</td>\n",
       "      <td>NaN</td>\n",
       "    </tr>\n",
       "  </tbody>\n",
       "</table>\n",
       "</div>"
      ],
      "text/plain": [
       "                 df     sum_sq    mean_sq           F        PR(>F)\n",
       "C(species)      2.0  63.212133  31.606067  274.728446  4.785160e-50\n",
       "petal_length    1.0  22.274541  22.274541  193.616313  1.718161e-28\n",
       "petal_width     1.0   0.000169   0.000169    0.001472  9.694469e-01\n",
       "Residual      145.0  16.681489   0.115045         NaN           NaN"
      ]
     },
     "execution_count": 88,
     "metadata": {},
     "output_type": "execute_result"
    }
   ],
   "source": [
    "sm.stats.anova_lm(res) # ANOVA table"
   ]
  },
  {
   "cell_type": "markdown",
   "metadata": {},
   "source": [
    "We read the p-value in the last column. For the species, we observe a p-value that is small enough to reject the null hypothesis that the species does not impact the model. In the same manner, we can conclude that petal_length is an important factor (its coefficient is non-zero). However, the p-value for petal_width is large enough to conclude that petal_width has no effect on sepal_length."
   ]
  },
  {
   "cell_type": "code",
   "execution_count": null,
   "metadata": {
    "collapsed": true
   },
   "outputs": [],
   "source": []
  },
  {
   "cell_type": "code",
   "execution_count": null,
   "metadata": {
    "collapsed": true
   },
   "outputs": [],
   "source": []
  },
  {
   "cell_type": "code",
   "execution_count": null,
   "metadata": {
    "collapsed": true
   },
   "outputs": [],
   "source": []
  },
  {
   "cell_type": "code",
   "execution_count": null,
   "metadata": {
    "collapsed": true
   },
   "outputs": [],
   "source": []
  }
 ],
 "metadata": {
  "kernelspec": {
   "display_name": "Python 3",
   "language": "python",
   "name": "python3"
  },
  "language_info": {
   "codemirror_mode": {
    "name": "ipython",
    "version": 3
   },
   "file_extension": ".py",
   "mimetype": "text/x-python",
   "name": "python",
   "nbconvert_exporter": "python",
   "pygments_lexer": "ipython3",
   "version": "3.6.3"
  }
 },
 "nbformat": 4,
 "nbformat_minor": 2
}
